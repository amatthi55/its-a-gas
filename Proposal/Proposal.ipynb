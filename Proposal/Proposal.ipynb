{
 "cells": [
  {
   "cell_type": "markdown",
   "metadata": {},
   "source": [
    "# It's a Gas! \n",
    "![It's a Gas!](cq5dam.web.768.768.jpeg)\n",
    "## Proposal"
   ]
  },
  {
   "cell_type": "markdown",
   "metadata": {},
   "source": [
    "\n",
    "There is an article in *Autoweek* announcing  that Ford will stop selling sedans (http://autoweek.com/article/car-news/ford-will-stop-selling-sedans-north-america-entirely-face-unstoppable-crossover. )This seemed strange, since sedans would seem to be the most popular car.  While preparing for this project, there was a discussion about the vehicles we drove.  The Ford Mustang, a coupe was one and another was a Ram Pickup Truck.  This prompted the question:<br/><br/><b>What drives the automobile market?</b><br/><br/>\n",
    "    \n",
    "This project is an attempt to answer this question by analyzing multiple data sources.  It is unknown where the data will reveal.  The approach will have an obvious numerical aspect to it.  However, judging by  the discussion of our own vehicles, there must be a visceral, emotional aspect to purchasing habits.  Hence, the name of this project:<br/><br/><b>It’s a Gas</b><br/><br/>This term does not mean only gas power vehicle are considered.  It is the term associated with the fun aspect of driving vehicles of our choosing.\n"
   ]
  },
  {
   "cell_type": "markdown",
   "metadata": {},
   "source": [
    "## Data Sources\n",
    "At the time of this proposal, team members are selecting and suggesting data sources that would contibute to this story.\n",
    "\n",
    "Where the data leads is uncertain."
   ]
  },
  {
   "cell_type": "markdown",
   "metadata": {
    "collapsed": true
   },
   "source": [
    "## Data Architecture\n",
    "\n",
    "![Data Architecture](Data_Architecture.PNG)\n",
    "__Data Architecture__ consists of three major components.\n",
    "1. __Data Acquisition__ Data is acquired from the Internet, cleaned, and loaded into a database.\n",
    "2. __Data Modeling__ Relatively static operations are done with the data.\n",
    "    * __Aggregation__ Data is aggregated over hierarchies to pre-calculate summary levels.\n",
    "    * __Calculation__ Ratios, ordinal factors, and accumulations are calculated.\n",
    "    * __Integration Views__ are created to integrate data from disparate sources.\n",
    "    * __Performance__ Materialized views are created for integrating relative static data.\n",
    "3. __Data Access__ Presenting data for analysis.\n",
    "    * __Data Visualization__  Web pages utilizing plotting and RESTful calls present the data in visually meaningful way.\n",
    "    * __Data Exploration__ The same data is acquired by Python modules using Pandas and RESTful calls.\n",
    "\n",
    "\n"
   ]
  },
  {
   "cell_type": "markdown",
   "metadata": {},
   "source": [
    "## Data Acquisition\n",
    "\n",
    "![Data Architecture](Data_Acquisition_3.PNG)\n",
    "\n",
    "Multiple datasources were selected.  This is done by API access, web scraping, or \"cut and paste\".\n",
    "\n",
    "Once the data has been acquired, it must be cleansed, removing erroneous values and assessing null values.\n",
    "\n",
    "The prepared data is loaded into the database using an API."
   ]
  },
  {
   "cell_type": "markdown",
   "metadata": {},
   "source": [
    "## Data Modeling\n",
    "\n",
    "![Data Architecture](Data_Modeling_2.PNG)\n",
    "\n",
    "Performance can be improved and visualization simplified by doing aggregate functions in advance.\n",
    "\n",
    "If the data is hierarchicaly, then aggregation over the hierarchy could be done in advance.\n",
    "\n",
    "Views are used for integration by joining tables that are sourced from different data sources.\n",
    "\n"
   ]
  },
  {
   "cell_type": "markdown",
   "metadata": {},
   "source": [
    "## Data Access\n",
    "\n",
    "![Data Architecture](Data_Access_2.PNG)\n",
    "\n",
    "For Data Visualization, Javascript running in Chrome will use RESTful calls to get data from the database.  Javascript will use various libraries to plot the data.\n",
    "\n",
    "Data Exploration will be ad hoc in nature.  Python programs using Pandas and Matplotlib libraries will analyze and plot data.  Again, API calls will be used to acquire data from the database.\n"
   ]
  }
 ],
 "metadata": {
  "kernelspec": {
   "display_name": "Python 3",
   "language": "python",
   "name": "python3"
  },
  "language_info": {
   "codemirror_mode": {
    "name": "ipython",
    "version": 3
   },
   "file_extension": ".py",
   "mimetype": "text/x-python",
   "name": "python",
   "nbconvert_exporter": "python",
   "pygments_lexer": "ipython3",
   "version": "3.6.3"
  }
 },
 "nbformat": 4,
 "nbformat_minor": 2
}
