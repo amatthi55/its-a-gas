{
 "cells": [
  {
   "cell_type": "markdown",
   "metadata": {},
   "source": [
    "# It's a Gas!\n",
    "## Proposal"
   ]
  },
  {
   "cell_type": "markdown",
   "metadata": {},
   "source": [
    "There is an article in *Autoweek* announcing  that Ford will stop selling sedans (http://autoweek.com/article/car-news/ford-will-stop-selling-sedans-north-america-entirely-face-unstoppable-crossover. )This seemed strange, since sedans would seem to be the most popular car.  While preparing for this project, there was a discussion about the vehicles we drove.  The Ford Mustang, a coupe was one and another was a Ram Pickup Truck.  This prompted the question:<br/><br/><b>What drives the automobile market?</b><br/><br/>\n",
    "    \n",
    "This project is an attempt to answer this question by analyzing multiple data sources.  It is unknown where the data will reveal.  The approach will have an obvious numerical aspect to it.  However, judging by  the discussion of our own vehicles, there must be a visceral, emotional aspect to purchasing habits.  Hence, the name of this project:<br/><br/><b>It’s a Gas</b><br/><br/>This term does not mean only gas power vehicle are considered.  It is the term associated with the fun aspect of driving vehicles of our choosing.\n"
   ]
  },
  {
   "cell_type": "markdown",
   "metadata": {},
   "source": [
    "## Data Sources\n",
    "At the time of this proposal, team members are selecting and suggesting data sources that would contibute to this story.\n",
    "\n",
    "Where the data leads is uncertain."
   ]
  },
  {
   "cell_type": "code",
   "execution_count": null,
   "metadata": {
    "collapsed": true
   },
   "outputs": [],
   "source": [
    "## Data Architecture\n",
    "\n",
    "\n"
   ]
  }
 ],
 "metadata": {
  "kernelspec": {
   "display_name": "Python 3",
   "language": "python",
   "name": "python3"
  },
  "language_info": {
   "codemirror_mode": {
    "name": "ipython",
    "version": 3
   },
   "file_extension": ".py",
   "mimetype": "text/x-python",
   "name": "python",
   "nbconvert_exporter": "python",
   "pygments_lexer": "ipython3",
   "version": "3.6.3"
  }
 },
 "nbformat": 4,
 "nbformat_minor": 2
}
